{
  "nbformat": 4,
  "nbformat_minor": 0,
  "metadata": {
    "colab": {
      "provenance": [],
      "include_colab_link": true
    },
    "kernelspec": {
      "name": "python3",
      "display_name": "Python 3"
    },
    "language_info": {
      "name": "python"
    }
  },
  "cells": [
    {
      "cell_type": "markdown",
      "metadata": {
        "id": "view-in-github",
        "colab_type": "text"
      },
      "source": [
        "<a href=\"https://colab.research.google.com/github/jacobkinsey/PPT-Generation/blob/main/ActionLearning_PPT_Generator.ipynb\" target=\"_parent\"><img src=\"https://colab.research.google.com/assets/colab-badge.svg\" alt=\"Open In Colab\"/></a>"
      ]
    },
    {
      "cell_type": "code",
      "execution_count": null,
      "metadata": {
        "colab": {
          "base_uri": "https://localhost:8080/"
        },
        "id": "1mi-xH4-o-Ak",
        "outputId": "360a03da-7624-46fe-cf3d-97c498d1c51e"
      },
      "outputs": [
        {
          "output_type": "stream",
          "name": "stdout",
          "text": [
            "Looking in indexes: https://pypi.org/simple, https://us-python.pkg.dev/colab-wheels/public/simple/\n",
            "Collecting python-pptx\n",
            "  Downloading python-pptx-0.6.21.tar.gz (10.1 MB)\n",
            "\u001b[K     |████████████████████████████████| 10.1 MB 30.7 MB/s \n",
            "\u001b[?25hRequirement already satisfied: lxml>=3.1.0 in /usr/local/lib/python3.7/dist-packages (from python-pptx) (4.9.1)\n",
            "Requirement already satisfied: Pillow>=3.3.2 in /usr/local/lib/python3.7/dist-packages (from python-pptx) (7.1.2)\n",
            "Collecting XlsxWriter>=0.5.7\n",
            "  Downloading XlsxWriter-3.0.3-py3-none-any.whl (149 kB)\n",
            "\u001b[K     |████████████████████████████████| 149 kB 88.1 MB/s \n",
            "\u001b[?25hBuilding wheels for collected packages: python-pptx\n",
            "  Building wheel for python-pptx (setup.py) ... \u001b[?25l\u001b[?25hdone\n",
            "  Created wheel for python-pptx: filename=python_pptx-0.6.21-py3-none-any.whl size=470952 sha256=5eb7274404548848420564994706cc80163eac8b3005291af3bb3d20d9fc2796\n",
            "  Stored in directory: /root/.cache/pip/wheels/a7/ab/f4/52560d0d4bd4055e9261c6df6e51c7b56c2b23cca3dee811a3\n",
            "Successfully built python-pptx\n",
            "Installing collected packages: XlsxWriter, python-pptx\n",
            "Successfully installed XlsxWriter-3.0.3 python-pptx-0.6.21\n"
          ]
        }
      ],
      "source": [
        "!pip install python-pptx"
      ]
    },
    {
      "cell_type": "code",
      "source": [
        "from pptx import Presentation\n",
        "import pandas as pd\n",
        "from PIL import Image\n",
        "\n",
        "df = pd.read_csv('AL_PPT_Generation_Template.csv')\n",
        "\n",
        "prs = Presentation('/content/B301_ProjectIntro_jk.pptx')"
      ],
      "metadata": {
        "id": "EbuO8OAcpIEC"
      },
      "execution_count": null,
      "outputs": []
    },
    {
      "cell_type": "code",
      "source": [
        "def add_returning_client_info(\n",
        "    company_name, \n",
        "    project_name, \n",
        "    organization_description,\n",
        "    industry,\n",
        "    project_category,\n",
        "    project_context,\n",
        "    #logoFileName,\n",
        "    #logoExtention,\n",
        "    business_challenge,\n",
        "    methodology,\n",
        "    project_deliverables\n",
        "    ):\n",
        "  # Generate first PPT slide\n",
        "  template_slide_one_returning = prs.slides.add_slide(prs.slide_layouts[2])\n",
        "\n",
        "  _companyName = template_slide_one_returning.placeholders[0]\n",
        "  _companyName.text = company_name\n",
        "\n",
        "  _projectName = template_slide_one_returning.placeholders[14]\n",
        "  _projectName.text = project_name\n",
        "\n",
        "  _organizationDescription = template_slide_one_returning.placeholders[15]\n",
        "  _organizationDescription.text = organization_description\n",
        "\n",
        "  _industry = template_slide_one_returning.placeholders[16]\n",
        "  _industry.text = industry\n",
        "\n",
        "  _projectCategory = template_slide_one_returning.placeholders[17]\n",
        "  _projectCategory.text = project_category\n",
        "\n",
        "  _projectContext = template_slide_one_returning.placeholders[18]\n",
        "  _projectContext.text = project_context\n",
        "\n",
        "  #_logo = template_slide_one_returning.placeholders[19]\n",
        "  #_logo.insert_picture(logoFileName+'-edited.'+logoExtention)\n",
        "\n",
        "  # Generate second PPT slide\n",
        "  template_slide_two = prs.slides.add_slide(prs.slide_layouts[4])\n",
        "\n",
        "  _companyName3 = template_slide_two.placeholders[0]\n",
        "  _companyName3.text = company_name\n",
        "\n",
        "  _projectName3 = template_slide_two.placeholders[14]\n",
        "  _projectName3.text = project_name\n",
        "\n",
        "  _businessChallenge = template_slide_two.placeholders[15]\n",
        "  _businessChallenge.text = business_challenge\n",
        "\n",
        "  _industry3 = template_slide_two.placeholders[16]\n",
        "  _industry3.text = industry\n",
        "\n",
        "  _projectCategory3 = template_slide_two.placeholders[17]\n",
        "  _projectCategory3.text = project_category\n",
        "\n",
        "  _methodology = template_slide_two.placeholders[18]\n",
        "  _methodology.text = methodology\n",
        "\n",
        "  _projectDeliverables = template_slide_two.placeholders[19]\n",
        "  _projectDeliverables.text = project_deliverables"
      ],
      "metadata": {
        "id": "NgNZ3zrAn9tq"
      },
      "execution_count": null,
      "outputs": []
    },
    {
      "cell_type": "code",
      "source": [
        "def add_new_client_info(\n",
        "    company_name, \n",
        "    project_name, \n",
        "    organization_description,\n",
        "    industry,\n",
        "    project_category,\n",
        "    project_context,\n",
        "    #logoFileName,\n",
        "    #logoExtention,\n",
        "    business_challenge,\n",
        "    methodology,\n",
        "    project_deliverables\n",
        "    ):\n",
        "  # Generate first PPT slide\n",
        "  template_slide_one_new = prs.slides.add_slide(prs.slide_layouts[3])\n",
        "\n",
        "  _companyName1 = template_slide_one_new.placeholders[0]\n",
        "  _companyName1.text = company_name\n",
        "\n",
        "  _projectName2 = template_slide_one_new.placeholders[14]\n",
        "  _projectName2.text = project_name\n",
        "\n",
        "  _organizationDescription2 = template_slide_one_new.placeholders[15]\n",
        "  _organizationDescription2.text = organization_description\n",
        "\n",
        "  _industry2 = template_slide_one_new.placeholders[16]\n",
        "  _industry2.text = industry\n",
        "\n",
        "  _projectCategory2 = template_slide_one_new.placeholders[17]\n",
        "  _projectCategory2.text = project_category\n",
        "\n",
        "  _projectContext2 = template_slide_one_new.placeholders[18]\n",
        "  _projectContext2.text = project_context\n",
        "\n",
        "  # Generate second PPT slide\n",
        "  template_slide_two = prs.slides.add_slide(prs.slide_layouts[4])\n",
        "\n",
        "  _companyName3 = template_slide_two.placeholders[0]\n",
        "  _companyName3.text = company_name\n",
        "\n",
        "  _projectName3 = template_slide_two.placeholders[14]\n",
        "  _projectName3.text = project_name\n",
        "\n",
        "  _businessChallenge = template_slide_two.placeholders[15]\n",
        "  _businessChallenge.text = business_challenge\n",
        "\n",
        "  _industry3 = template_slide_two.placeholders[16]\n",
        "  _industry3.text = industry\n",
        "\n",
        "  _projectCategory3 = template_slide_two.placeholders[17]\n",
        "  _projectCategory3.text = project_category\n",
        "\n",
        "  _methodology = template_slide_two.placeholders[18]\n",
        "  _methodology.text = methodology\n",
        "\n",
        "  _projectDeliverables = template_slide_two.placeholders[19]\n",
        "  _projectDeliverables.text = project_deliverables"
      ],
      "metadata": {
        "id": "6o-oIEWZotvs"
      },
      "execution_count": null,
      "outputs": []
    },
    {
      "cell_type": "code",
      "source": [
        "for index, row in df.iterrows():\n",
        "  id = df['id'].iloc[index]\n",
        "  company_name = df['company_name'].iloc[index]\n",
        "  project_name = df['project_name'].iloc[index]\n",
        "  industry = df['industry'].iloc[index]\n",
        "  project_category = df['project_category'].iloc[index]\n",
        "  website = df['website'].iloc[index]\n",
        "  isReturning = df['isReturning'].iloc[index]\n",
        "  organization_description = df['organization_description'].iloc[index]\n",
        "  project_context = df['project_context'].iloc[index]\n",
        "  business_challenge = df['business_challenge'].iloc[index]\n",
        "  methodology = df['methodology'].iloc[index]\n",
        "  project_deliverables = df['project_deliverables'].iloc[index]\n",
        "  logo = df['logo'].iloc[index]\n",
        "\n",
        "  #logoFileName = logo.split('.')[0]\n",
        "  #logoExtention = logo.split('.')[1]\n",
        "  #image = Image.open(logo)\n",
        "  #image.thumbnail((200,200), Image.ANTIALIAS)\n",
        "  #image.save(logoFileName+'-edited.'+logoExtention)\n",
        "\n",
        "  if isReturning:\n",
        "    add_returning_client_info(\n",
        "      company_name, \n",
        "      project_name, \n",
        "      organization_description,\n",
        "      industry,\n",
        "      project_category,\n",
        "      project_context,\n",
        "      #logoFileName,\n",
        "      #logoExtention,\n",
        "      business_challenge,\n",
        "      methodology,\n",
        "      project_deliverables\n",
        "      )\n",
        "  else:\n",
        "    add_new_client_info(\n",
        "      company_name, \n",
        "      project_name, \n",
        "      organization_description,\n",
        "      industry,\n",
        "      project_category,\n",
        "      project_context,\n",
        "      #logoFileName,\n",
        "      #logoExtention,\n",
        "      business_challenge,\n",
        "      methodology,\n",
        "      project_deliverables\n",
        "      )\n"
      ],
      "metadata": {
        "id": "qa6eCF9xnLD2"
      },
      "execution_count": null,
      "outputs": []
    },
    {
      "cell_type": "code",
      "source": [
        "prs.save('B301_ProjectIntro_Edited.pptx')"
      ],
      "metadata": {
        "id": "ssr5viN8CsXr"
      },
      "execution_count": null,
      "outputs": []
    }
  ]
}